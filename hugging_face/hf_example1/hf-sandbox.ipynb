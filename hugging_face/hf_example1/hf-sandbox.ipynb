{
 "cells": [
  {
   "cell_type": "markdown",
   "id": "9ecac5e2-f476-43e0-a6c9-de34340421f5",
   "metadata": {},
   "source": [
    "# Hugging Face Transformers Library"
   ]
  },
  {
   "cell_type": "markdown",
   "id": "00221694-a44a-485e-907a-89b72a9f5894",
   "metadata": {},
   "source": [
    "### import modules"
   ]
  },
  {
   "cell_type": "code",
   "execution_count": 1,
   "id": "fc82621c",
   "metadata": {},
   "outputs": [
    {
     "name": "stdout",
     "output_type": "stream",
     "text": [
      "Your Python version is 3.10.0\n"
     ]
    }
   ],
   "source": [
    "import sys\n",
    "\n",
    "major, minor, micro = sys.version_info[:3]\n",
    "print(f\"Your Python version is {major}.{minor}.{micro}\")"
   ]
  },
  {
   "cell_type": "code",
   "execution_count": 2,
   "id": "f03e9ea9-7b62-4962-90f5-3ecb538f4477",
   "metadata": {},
   "outputs": [
    {
     "name": "stderr",
     "output_type": "stream",
     "text": [
      "/Users/shlba/miniconda3/envs/hf-env/lib/python3.10/site-packages/tqdm/auto.py:21: TqdmWarning: IProgress not found. Please update jupyter and ipywidgets. See https://ipywidgets.readthedocs.io/en/stable/user_install.html\n",
      "  from .autonotebook import tqdm as notebook_tqdm\n"
     ]
    }
   ],
   "source": [
    "from transformers import pipeline, Conversation\n",
    "import gradio as gr"
   ]
  },
  {
   "cell_type": "markdown",
   "id": "1fee59d7-15f0-4e47-82f1-6baeb43db0fe",
   "metadata": {},
   "source": [
    "### code"
   ]
  },
  {
   "cell_type": "markdown",
   "id": "8c43bb37-0056-4eaa-ae9b-24dd30c56754",
   "metadata": {},
   "source": [
    "#### Sentiment Analysis"
   ]
  },
  {
   "cell_type": "code",
   "execution_count": 3,
   "id": "8aa647ea-9305-4206-b5ae-ed5565db6221",
   "metadata": {},
   "outputs": [
    {
     "name": "stderr",
     "output_type": "stream",
     "text": [
      "No model was supplied, defaulted to distilbert-base-uncased-finetuned-sst-2-english and revision af0f99b (https://huggingface.co/distilbert-base-uncased-finetuned-sst-2-english).\n",
      "Using a pipeline without specifying a model name and revision in production is not recommended.\n"
     ]
    },
    {
     "data": {
      "text/plain": [
       "[{'label': 'POSITIVE', 'score': 0.9998745918273926}]"
      ]
     },
     "execution_count": 3,
     "metadata": {},
     "output_type": "execute_result"
    }
   ],
   "source": [
    "# toy example 1\n",
    "pipeline(task=\"sentiment-analysis\")(\"Love this!\")"
   ]
  },
  {
   "cell_type": "code",
   "execution_count": 4,
   "id": "2391e50c-f9d8-4891-b965-7af0e2fa239e",
   "metadata": {},
   "outputs": [
    {
     "data": {
      "text/plain": [
       "[{'label': 'POSITIVE', 'score': 0.9998745918273926}]"
      ]
     },
     "execution_count": 4,
     "metadata": {},
     "output_type": "execute_result"
    }
   ],
   "source": [
    "# toy example 2\n",
    "pipeline(task=\"sentiment-analysis\", model=\"distilbert-base-uncased-finetuned-sst-2-english\")(\"Love this!\")"
   ]
  },
  {
   "cell_type": "markdown",
   "id": "e712fbe6-e9d7-4346-933f-e250b846a0ff",
   "metadata": {},
   "source": [
    "#### More Sentiment Analysis"
   ]
  },
  {
   "cell_type": "code",
   "execution_count": 5,
   "id": "cb83cab0-0718-47bb-8a19-240a065f2b8d",
   "metadata": {},
   "outputs": [],
   "source": [
    "# defining classifier\n",
    "classifier = pipeline(task=\"sentiment-analysis\", model=\"distilbert-base-uncased-finetuned-sst-2-english\")"
   ]
  },
  {
   "cell_type": "code",
   "execution_count": 6,
   "id": "ab3948c2-aa59-4ec8-bbc0-6697a5898bc1",
   "metadata": {},
   "outputs": [
    {
     "data": {
      "text/plain": [
       "[{'label': 'NEGATIVE', 'score': 0.9997110962867737}]"
      ]
     },
     "execution_count": 6,
     "metadata": {},
     "output_type": "execute_result"
    }
   ],
   "source": [
    "classifier(\"Hate this.\")"
   ]
  },
  {
   "cell_type": "code",
   "execution_count": 7,
   "id": "294e524d-9cbc-4e63-8f74-f7045564c2a0",
   "metadata": {},
   "outputs": [
    {
     "data": {
      "text/plain": [
       "[{'label': 'POSITIVE', 'score': 0.9998785257339478},\n",
       " {'label': 'POSITIVE', 'score': 0.9680055975914001},\n",
       " {'label': 'NEGATIVE', 'score': 0.8776113986968994},\n",
       " {'label': 'POSITIVE', 'score': 0.9998120665550232}]"
      ]
     },
     "execution_count": 7,
     "metadata": {},
     "output_type": "execute_result"
    }
   ],
   "source": [
    "# we can also pass in a list to classifier\n",
    "text_list = [\"This is great\", \\\n",
    "             \"Thanks for nothing\", \\\n",
    "             \"You've got to work on your face\", \\\n",
    "             \"You're beautiful, never change!\"]\n",
    "\n",
    "classifier(text_list)"
   ]
  },
  {
   "cell_type": "code",
   "execution_count": 8,
   "id": "4dbf9541-093b-4eb2-9a28-2d6b96d49519",
   "metadata": {},
   "outputs": [],
   "source": [
    "# if there are multiple target labels, we can return them all\n",
    "classifier = pipeline(task=\"text-classification\", model=\"SamLowe/roberta-base-go_emotions\", top_k=None)"
   ]
  },
  {
   "cell_type": "code",
   "execution_count": 9,
   "id": "cd9e9143-5485-4cf0-b5f7-53c86e238bdc",
   "metadata": {},
   "outputs": [
    {
     "data": {
      "text/plain": [
       "[[{'label': 'admiration', 'score': 0.9526104927062988},\n",
       "  {'label': 'approval', 'score': 0.03047208860516548},\n",
       "  {'label': 'neutral', 'score': 0.015236224979162216},\n",
       "  {'label': 'excitement', 'score': 0.006063772831112146},\n",
       "  {'label': 'gratitude', 'score': 0.005296194460242987},\n",
       "  {'label': 'joy', 'score': 0.004475215449929237},\n",
       "  {'label': 'curiosity', 'score': 0.004322333727031946},\n",
       "  {'label': 'realization', 'score': 0.004089607857167721},\n",
       "  {'label': 'optimism', 'score': 0.0040772221982479095},\n",
       "  {'label': 'disapproval', 'score': 0.004076567944139242},\n",
       "  {'label': 'annoyance', 'score': 0.0035287411883473396},\n",
       "  {'label': 'surprise', 'score': 0.0029730729293078184},\n",
       "  {'label': 'disappointment', 'score': 0.0027346420101821423},\n",
       "  {'label': 'love', 'score': 0.0026945830322802067},\n",
       "  {'label': 'amusement', 'score': 0.0024867437314242125},\n",
       "  {'label': 'confusion', 'score': 0.0023607430048286915},\n",
       "  {'label': 'pride', 'score': 0.002101341262459755},\n",
       "  {'label': 'sadness', 'score': 0.001773053896613419},\n",
       "  {'label': 'anger', 'score': 0.0017196922563016415},\n",
       "  {'label': 'caring', 'score': 0.0013670086627826095},\n",
       "  {'label': 'desire', 'score': 0.001047872588969767},\n",
       "  {'label': 'disgust', 'score': 0.0009689937578514218},\n",
       "  {'label': 'fear', 'score': 0.0005249782698228955},\n",
       "  {'label': 'relief', 'score': 0.00048621228779666126},\n",
       "  {'label': 'embarrassment', 'score': 0.0003417508560232818},\n",
       "  {'label': 'grief', 'score': 0.00033891983912326396},\n",
       "  {'label': 'remorse', 'score': 0.0002780951326712966},\n",
       "  {'label': 'nervousness', 'score': 0.00020788486290257424}]]"
      ]
     },
     "execution_count": 9,
     "metadata": {},
     "output_type": "execute_result"
    }
   ],
   "source": [
    "classifier(text_list[0])  # \"This is great\""
   ]
  },
  {
   "cell_type": "markdown",
   "id": "1e3c7961-69ec-4a02-90a8-1530286f6bab",
   "metadata": {},
   "source": [
    "#### Summarization"
   ]
  },
  {
   "cell_type": "code",
   "execution_count": 10,
   "id": "6d0b7060-fb04-40de-8d25-7edd8772d04a",
   "metadata": {},
   "outputs": [],
   "source": [
    "summarizer = pipeline(\"summarization\", model=\"facebook/bart-large-cnn\")"
   ]
  },
  {
   "cell_type": "code",
   "execution_count": 11,
   "id": "cedeb7ee-c1ec-4e71-b31b-9db46ed56c80",
   "metadata": {},
   "outputs": [
    {
     "data": {
      "text/plain": [
       "'Hugging Face is an AI company that has become a major hub for open-source machine learning. They have 3 major elements which allow users to access and share machine learning resources.'"
      ]
     },
     "execution_count": 11,
     "metadata": {},
     "output_type": "execute_result"
    }
   ],
   "source": [
    "text = \"\"\"\n",
    "Hugging Face is an AI company that has become a major hub for open-source machine learning. \n",
    "Their platform has 3 major elements which allow users to access and share machine learning resources. \n",
    "First, is their rapidly growing repository of pre-trained open-source machine learning models for things such as natural language processing (NLP), computer vision, and more. \n",
    "Second, is their library of datasets for training machine learning models for almost any task. \n",
    "Third, and finally, is Spaces which is a collection of open-source ML apps.\n",
    "\n",
    "The power of these resources is that they are community generated, which leverages all the benefits of open source i.e. cost-free, wide diversity of tools, high quality resources, and rapid pace of innovation. \n",
    "While these make building powerful ML projects more accessible than before, there is another key element of the Hugging Face ecosystem—their Transformers library.\n",
    "\"\"\"\n",
    "summarized_text = summarizer(text, min_length=5, max_length=140)[0]['summary_text']\n",
    "summarized_text "
   ]
  },
  {
   "cell_type": "code",
   "execution_count": 12,
   "id": "d2e48ba3-b55b-46df-9d4e-717fb2726dad",
   "metadata": {},
   "outputs": [
    {
     "data": {
      "text/plain": [
       "[[{'label': 'neutral', 'score': 0.9101782441139221},\n",
       "  {'label': 'approval', 'score': 0.08781375735998154},\n",
       "  {'label': 'realization', 'score': 0.023256298154592514},\n",
       "  {'label': 'annoyance', 'score': 0.006623796187341213},\n",
       "  {'label': 'admiration', 'score': 0.004981068894267082},\n",
       "  {'label': 'disapproval', 'score': 0.004730131011456251},\n",
       "  {'label': 'optimism', 'score': 0.0033590758685022593},\n",
       "  {'label': 'disappointment', 'score': 0.002619005972519517},\n",
       "  {'label': 'confusion', 'score': 0.001953981351107359},\n",
       "  {'label': 'excitement', 'score': 0.0012417063117027283},\n",
       "  {'label': 'disgust', 'score': 0.0011407796991989017},\n",
       "  {'label': 'joy', 'score': 0.0010540119837969542},\n",
       "  {'label': 'amusement', 'score': 0.0009572377894073725},\n",
       "  {'label': 'love', 'score': 0.000887105125002563},\n",
       "  {'label': 'desire', 'score': 0.0008553270599804819},\n",
       "  {'label': 'curiosity', 'score': 0.000826105650048703},\n",
       "  {'label': 'anger', 'score': 0.0007336381822824478},\n",
       "  {'label': 'caring', 'score': 0.0006971139810048044},\n",
       "  {'label': 'sadness', 'score': 0.0006702441605739295},\n",
       "  {'label': 'gratitude', 'score': 0.0006645720568485558},\n",
       "  {'label': 'surprise', 'score': 0.0005773778539150953},\n",
       "  {'label': 'relief', 'score': 0.00047890585847198963},\n",
       "  {'label': 'fear', 'score': 0.00045125040924176574},\n",
       "  {'label': 'pride', 'score': 0.00035174330696463585},\n",
       "  {'label': 'embarrassment', 'score': 0.0003261523670516908},\n",
       "  {'label': 'remorse', 'score': 0.00019475779845379293},\n",
       "  {'label': 'nervousness', 'score': 0.0001852151472121477},\n",
       "  {'label': 'grief', 'score': 0.00016037873865570873}]]"
      ]
     },
     "execution_count": 12,
     "metadata": {},
     "output_type": "execute_result"
    }
   ],
   "source": [
    "classifier(summarized_text)"
   ]
  },
  {
   "cell_type": "markdown",
   "id": "b783e8c1-a1f6-4f3a-b539-e4e77063f390",
   "metadata": {},
   "source": [
    "#### Conversational"
   ]
  },
  {
   "cell_type": "code",
   "execution_count": 13,
   "id": "6be097fd-cde5-4038-a20d-c2d86cdcd9a7",
   "metadata": {},
   "outputs": [],
   "source": [
    "chatbot = pipeline(model=\"facebook/blenderbot-400M-distill\")"
   ]
  },
  {
   "cell_type": "code",
   "execution_count": 14,
   "id": "7580fb20-2ba8-49ab-9261-18d46018d7e3",
   "metadata": {},
   "outputs": [
    {
     "name": "stderr",
     "output_type": "stream",
     "text": [
      "\n",
      "No chat template is defined for this tokenizer - using the default template for the BlenderbotTokenizerFast class. If the default is not appropriate for your model, please set `tokenizer.chat_template` to an appropriate template. See https://huggingface.co/docs/transformers/main/chat_templating for more information.\n",
      "\n"
     ]
    }
   ],
   "source": [
    "conversation = Conversation(\"Hi I'm Sahil, how are you?\")\n",
    "conversation = chatbot(conversation)"
   ]
  },
  {
   "cell_type": "code",
   "execution_count": 15,
   "id": "e22274cb-83a1-42d7-947c-2ddeed4df6f5",
   "metadata": {},
   "outputs": [
    {
     "data": {
      "text/plain": [
       "Conversation id: 69437b38-83e4-481b-8edf-7063a9d7b094\n",
       "user: Hi I'm Sahil, how are you?\n",
       "assistant:  I'm doing well. How are you doing this evening? I just got home from work."
      ]
     },
     "execution_count": 15,
     "metadata": {},
     "output_type": "execute_result"
    }
   ],
   "source": [
    "conversation"
   ]
  },
  {
   "cell_type": "code",
   "execution_count": 16,
   "id": "b27ea6f8-939d-46df-9543-ce971556a5d2",
   "metadata": {},
   "outputs": [],
   "source": [
    "conversation.add_user_input(\"Where do you work?\")\n",
    "conversation = chatbot(conversation)"
   ]
  },
  {
   "cell_type": "code",
   "execution_count": 17,
   "id": "b268de14-4dd6-4d02-9f1b-b4582d03a26c",
   "metadata": {},
   "outputs": [
    {
     "data": {
      "text/plain": [
       "Conversation id: 69437b38-83e4-481b-8edf-7063a9d7b094\n",
       "user: Hi I'm Sahil, how are you?\n",
       "assistant:  I'm doing well. How are you doing this evening? I just got home from work.\n",
       "user: Where do you work?\n",
       "assistant:  I work at a grocery store. What do you do for a living? Do you have any hobbies?"
      ]
     },
     "execution_count": 17,
     "metadata": {},
     "output_type": "execute_result"
    }
   ],
   "source": [
    "conversation"
   ]
  },
  {
   "cell_type": "markdown",
   "id": "94e6f7db-f09c-452a-97ee-2bc9c0b9707e",
   "metadata": {},
   "source": [
    "### Deploy Chatbot UI"
   ]
  },
  {
   "cell_type": "markdown",
   "id": "51f53d0e-4ee3-416c-9abe-bd64bbde7433",
   "metadata": {},
   "source": [
    "#### Text Sentiment Chatbot"
   ]
  },
  {
   "cell_type": "code",
   "execution_count": 18,
   "id": "2a0adefa",
   "metadata": {},
   "outputs": [],
   "source": [
    "def top3_text_classes(message, history):\n",
    "    return str(classifier(message)[0][:3]).replace('}, {', '\\n').replace('[{', '').replace('}]', '')\n"
   ]
  },
  {
   "cell_type": "code",
   "execution_count": 19,
   "id": "eb90abf7",
   "metadata": {},
   "outputs": [],
   "source": [
    "demo_sentiment = gr.ChatInterface(top3_text_classes, title=\"Text Sentiment Chatbot\", description=\"Enter your text, and the chatbot will classify the sentiment.\")\n"
   ]
  },
  {
   "cell_type": "code",
   "execution_count": 20,
   "id": "50498912-8ebb-4369-bd7b-c923eee4dd42",
   "metadata": {},
   "outputs": [
    {
     "name": "stdout",
     "output_type": "stream",
     "text": [
      "Running on local URL:  http://127.0.0.1:7860\n",
      "\n",
      "To create a public link, set `share=True` in `launch()`.\n"
     ]
    },
    {
     "data": {
      "text/html": [
       "<div><iframe src=\"http://127.0.0.1:7860/\" width=\"100%\" height=\"500\" allow=\"autoplay; camera; microphone; clipboard-read; clipboard-write;\" frameborder=\"0\" allowfullscreen></iframe></div>"
      ],
      "text/plain": [
       "<IPython.core.display.HTML object>"
      ]
     },
     "metadata": {},
     "output_type": "display_data"
    },
    {
     "data": {
      "text/plain": []
     },
     "execution_count": 20,
     "metadata": {},
     "output_type": "execute_result"
    }
   ],
   "source": [
    "demo_sentiment.launch()\n"
   ]
  },
  {
   "cell_type": "markdown",
   "id": "88e64992-072b-4c6f-be95-7bbba7dfefe1",
   "metadata": {},
   "source": [
    "#### Summarizer Chatbot"
   ]
  },
  {
   "cell_type": "code",
   "execution_count": null,
   "id": "161e4628",
   "metadata": {},
   "outputs": [],
   "source": [
    "def summarizer_bot(message, history):\n",
    "    return summarizer(message, min_length=5, max_length=10)[0]['summary_text']"
   ]
  },
  {
   "cell_type": "code",
   "execution_count": null,
   "id": "ebf5e2fb-9e5d-4756-aaee-c98c660b3294",
   "metadata": {},
   "outputs": [
    {
     "name": "stdout",
     "output_type": "stream",
     "text": [
      "Running on local URL:  http://127.0.0.1:7863\n",
      "\n",
      "To create a public link, set `share=True` in `launch()`.\n"
     ]
    },
    {
     "data": {
      "text/html": [
       "<div><iframe src=\"http://127.0.0.1:7863/\" width=\"100%\" height=\"500\" allow=\"autoplay; camera; microphone; clipboard-read; clipboard-write;\" frameborder=\"0\" allowfullscreen></iframe></div>"
      ],
      "text/plain": [
       "<IPython.core.display.HTML object>"
      ]
     },
     "metadata": {},
     "output_type": "display_data"
    },
    {
     "data": {
      "text/plain": []
     },
     "execution_count": 28,
     "metadata": {},
     "output_type": "execute_result"
    }
   ],
   "source": [
    "\n",
    "demo_summarizer = gr.ChatInterface(summarizer_bot, title=\"Summarizer Chatbot\", description=\"Enter your text, and the chatbot will return the summarized version.\")\n",
    "\n",
    "demo_summarizer.launch()"
   ]
  },
  {
   "cell_type": "markdown",
   "id": "3a9759ba-9a81-40cb-87fe-d72939be5460",
   "metadata": {},
   "source": [
    "#### Vanilla Chatbot"
   ]
  },
  {
   "cell_type": "code",
   "execution_count": null,
   "id": "507b9671-2035-4d3e-9385-931af3a69580",
   "metadata": {},
   "outputs": [
    {
     "name": "stdout",
     "output_type": "stream",
     "text": [
      "Running on local URL:  http://127.0.0.1:7864\n",
      "\n",
      "To create a public link, set `share=True` in `launch()`.\n"
     ]
    },
    {
     "data": {
      "text/html": [
       "<div><iframe src=\"http://127.0.0.1:7864/\" width=\"100%\" height=\"500\" allow=\"autoplay; camera; microphone; clipboard-read; clipboard-write;\" frameborder=\"0\" allowfullscreen></iframe></div>"
      ],
      "text/plain": [
       "<IPython.core.display.HTML object>"
      ]
     },
     "metadata": {},
     "output_type": "display_data"
    },
    {
     "data": {
      "text/plain": []
     },
     "execution_count": 29,
     "metadata": {},
     "output_type": "execute_result"
    }
   ],
   "source": [
    "message_list = []\n",
    "response_list = []\n",
    "\n",
    "def vanilla_chatbot(message, history):\n",
    "    conversation = Conversation(text=message, past_user_inputs=message_list, generated_responses=response_list)\n",
    "    conversation = chatbot(conversation)\n",
    "\n",
    "    return conversation.generated_responses[-1]\n",
    "\n",
    "demo_chatbot = gr.ChatInterface(vanilla_chatbot, title=\"Vanilla Chatbot\", description=\"Enter text to start chatting.\")\n",
    "\n",
    "demo_chatbot.launch()"
   ]
  },
  {
   "cell_type": "code",
   "execution_count": null,
   "id": "5a1b198d",
   "metadata": {},
   "outputs": [],
   "source": []
  }
 ],
 "metadata": {
  "kernelspec": {
   "display_name": "Python 3 (ipykernel)",
   "language": "python",
   "name": "python3"
  },
  "language_info": {
   "codemirror_mode": {
    "name": "ipython",
    "version": 3
   },
   "file_extension": ".py",
   "mimetype": "text/x-python",
   "name": "python",
   "nbconvert_exporter": "python",
   "pygments_lexer": "ipython3",
   "version": "3.10.0"
  }
 },
 "nbformat": 4,
 "nbformat_minor": 5
}
