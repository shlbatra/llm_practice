{
 "cells": [
  {
   "cell_type": "code",
   "execution_count": 1,
   "metadata": {},
   "outputs": [],
   "source": [
    "import os\n",
    "\n",
    "from langchain.chat_models import ChatOpenAI\n",
    "from langchain.prompts.chat import (\n",
    "    ChatPromptTemplate,\n",
    "    HumanMessagePromptTemplate,\n",
    ")\n",
    "from langchain.output_parsers import PydanticOutputParser\n",
    "from pydantic import BaseModel, Field\n",
    "from dotenv import load_dotenv\n"
   ]
  },
  {
   "cell_type": "code",
   "execution_count": 5,
   "metadata": {},
   "outputs": [],
   "source": [
    "load_dotenv()\n",
    "\n",
    "OPENAI_MODEL = \"gpt-3.5-turbo\"\n",
    "OPENAI_API_KEY = os.environ.get(\"OPENAI_API_KEY\")"
   ]
  },
  {
   "cell_type": "markdown",
   "metadata": {},
   "source": [
    "#### Simple call for prediction"
   ]
  },
  {
   "cell_type": "code",
   "execution_count": 6,
   "metadata": {},
   "outputs": [
    {
     "name": "stdout",
     "output_type": "stream",
     "text": [
      "1. Discuss how generative recommenders use algorithms to create personalized recommendations for users based on their preferences and behaviors. Explore how these algorithms work and the potential benefits they offer for businesses looking to improve customer satisfaction and increase sales.\n",
      "\n",
      "2. Explore the ethical implications of generative recommenders, including concerns about privacy, bias, and manipulation. Discuss ways in which companies can ensure transparency and fairness in their recommendation systems to build trust with their customers.\n",
      "\n",
      "3. Examine the role of generative recommenders in the entertainment industry, particularly in streaming services like Netflix and Spotify. Discuss how these platforms use algorithms to curate content for users and the impact this has on the media landscape.\n",
      "\n",
      "4. Delve into the challenges of building and maintaining generative recommenders, such as data quality, scalability, and interpretability. Discuss how companies can overcome these challenges to create effective recommendation systems that drive business success.\n",
      "\n",
      "5. Consider the future of generative recommenders and how advancements in artificial intelligence and machine learning may shape the development of these systems. Discuss potential innovations and trends that could impact the field of recommendation technology in the coming years.\n"
     ]
    }
   ],
   "source": [
    "llm = ChatOpenAI(openai_api_key=OPENAI_API_KEY, model_name=OPENAI_MODEL)\n",
    "result = llm.predict(\"Give me five cool ideas to talk about generative recommenders\")\n",
    "print(result)"
   ]
  },
  {
   "cell_type": "markdown",
   "metadata": {},
   "source": [
    "### Example with input provided"
   ]
  },
  {
   "cell_type": "code",
   "execution_count": 7,
   "metadata": {},
   "outputs": [],
   "source": [
    "PROMPT_COUNTRY_INFO = \"\"\"\n",
    "    Provide information about {country}.\n",
    "    \"\"\""
   ]
  },
  {
   "cell_type": "code",
   "execution_count": 8,
   "metadata": {},
   "outputs": [
    {
     "name": "stdout",
     "output_type": "stream",
     "text": [
      "content='India is a country located in South Asia and is the seventh-largest country by land area and the second-most populous country in the world, with over 1.3 billion people. It is known for its rich history, diverse culture, and vibrant traditions.\\n\\nIndia has a federal parliamentary democratic system of government and is a secular country with a multi-ethnic population speaking over 1,600 different languages. The capital city is New Delhi, and the official languages are Hindi and English.\\n\\nIndia is known for its Bollywood film industry, which produces the largest number of films in the world. It is also famous for its cuisine, which varies greatly from region to region, with popular dishes such as curry, biryani, and dosa.\\n\\nThe country has a rapidly growing economy and is considered a newly industrialized country. It is a major player in the global market, particularly in the fields of information technology, pharmaceuticals, and textiles.\\n\\nIndia is also home to a number of UNESCO World Heritage Sites, such as the Taj Mahal, Jaipur City, and the Elephanta Caves. The country attracts millions of tourists each year who come to explore its rich history, stunning landscapes, and vibrant culture.' additional_kwargs={} example=False\n"
     ]
    }
   ],
   "source": [
    "llm = ChatOpenAI(openai_api_key=OPENAI_API_KEY, model_name=OPENAI_MODEL)\n",
    "message = HumanMessagePromptTemplate.from_template(\n",
    "        template=PROMPT_COUNTRY_INFO,\n",
    "    )\n",
    "chat_prompt = ChatPromptTemplate.from_messages([message])\n",
    "country_name = \"India\"\n",
    "chat_prompt_with_values = chat_prompt.format_prompt(\n",
    "        country=country_name)\n",
    "output = llm(chat_prompt_with_values.to_messages())\n",
    "print(output)"
   ]
  },
  {
   "cell_type": "code",
   "execution_count": 9,
   "metadata": {},
   "outputs": [],
   "source": [
    "# Define your desired data structure.\n",
    "class Country(BaseModel):\n",
    "    capital: str = Field(description=\"capital of the country\")\n",
    "    name: str = Field(description=\"name of the country\")"
   ]
  },
  {
   "cell_type": "code",
   "execution_count": 10,
   "metadata": {},
   "outputs": [
    {
     "name": "stdout",
     "output_type": "stream",
     "text": [
      "[HumanMessage(content='\\n    Provide information about country - Sahil. Make up information about country if not available.\\n    The output should be formatted as a JSON instance that conforms to the JSON schema below.\\n\\nAs an example, for the schema {\"properties\": {\"foo\": {\"title\": \"Foo\", \"description\": \"a list of strings\", \"type\": \"array\", \"items\": {\"type\": \"string\"}}}, \"required\": [\"foo\"]}}\\nthe object {\"foo\": [\"bar\", \"baz\"]} is a well-formatted instance of the schema. The object {\"properties\": {\"foo\": [\"bar\", \"baz\"]}} is not well-formatted.\\n\\nHere is the output schema:\\n```\\n{\"properties\": {\"capital\": {\"title\": \"Capital\", \"description\": \"capital of the country\", \"type\": \"string\"}, \"name\": {\"title\": \"Name\", \"description\": \"name of the country\", \"type\": \"string\"}}, \"required\": [\"capital\", \"name\"]}\\n```\\n    ', additional_kwargs={}, example=False)]\n"
     ]
    }
   ],
   "source": [
    "PROMPT_COUNTRY_INFO = \"\"\"\n",
    "    Provide information about country - {country}. Make up information about country if not available.\n",
    "    {format_instructions}\n",
    "    \"\"\"\n",
    "\n",
    "parser = PydanticOutputParser(pydantic_object=Country)\n",
    "\n",
    "llm = ChatOpenAI(openai_api_key=OPENAI_API_KEY, model_name=OPENAI_MODEL)\n",
    "message = HumanMessagePromptTemplate.from_template(\n",
    "        template=PROMPT_COUNTRY_INFO,\n",
    "    )\n",
    "chat_prompt = ChatPromptTemplate.from_messages([message])\n",
    "country_name = \"Sahil\" #input(\"Enter a country name: \")\n",
    "chat_prompt_with_values = chat_prompt.format_prompt(\n",
    "        country=country_name, format_instructions=parser.get_format_instructions())\n",
    "print(chat_prompt_with_values.to_messages())\n"
   ]
  },
  {
   "cell_type": "code",
   "execution_count": 11,
   "metadata": {},
   "outputs": [
    {
     "name": "stdout",
     "output_type": "stream",
     "text": [
      "The country Sahil has the capital Sahil City\n"
     ]
    }
   ],
   "source": [
    "output = llm(chat_prompt_with_values.to_messages())\n",
    "country = parser.parse(output.content)\n",
    "\n",
    "print(f\"The country {country.name} has the capital {country.capital}\")"
   ]
  },
  {
   "cell_type": "code",
   "execution_count": null,
   "metadata": {},
   "outputs": [],
   "source": []
  },
  {
   "cell_type": "code",
   "execution_count": null,
   "metadata": {},
   "outputs": [],
   "source": []
  }
 ],
 "metadata": {
  "kernelspec": {
   "display_name": "langchain-env",
   "language": "python",
   "name": "langchain-env"
  },
  "language_info": {
   "codemirror_mode": {
    "name": "ipython",
    "version": 3
   },
   "file_extension": ".py",
   "mimetype": "text/x-python",
   "name": "python",
   "nbconvert_exporter": "python",
   "pygments_lexer": "ipython3",
   "version": "3.11.0"
  }
 },
 "nbformat": 4,
 "nbformat_minor": 2
}
